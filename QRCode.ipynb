{
 "cells": [
  {
   "cell_type": "code",
   "execution_count": 5,
   "id": "9f53d85a",
   "metadata": {},
   "outputs": [],
   "source": [
    "import qrcode as qr # !pip install qrcode\n",
    "img=qr.make('https://github.com/in09shivani/MLProject')\n",
    "img.save('CODEGIT.png')"
   ]
  },
  {
   "cell_type": "code",
   "execution_count": null,
   "id": "1ea3b793",
   "metadata": {},
   "outputs": [],
   "source": []
  },
  {
   "cell_type": "code",
   "execution_count": null,
   "id": "662b83c4",
   "metadata": {},
   "outputs": [],
   "source": [
    "\n"
   ]
  },
  {
   "cell_type": "code",
   "execution_count": null,
   "id": "469bd50a",
   "metadata": {},
   "outputs": [],
   "source": []
  }
 ],
 "metadata": {
  "kernelspec": {
   "display_name": "Python 3 (ipykernel)",
   "language": "python",
   "name": "python3"
  },
  "language_info": {
   "codemirror_mode": {
    "name": "ipython",
    "version": 3
   },
   "file_extension": ".py",
   "mimetype": "text/x-python",
   "name": "python",
   "nbconvert_exporter": "python",
   "pygments_lexer": "ipython3",
   "version": "3.9.13"
  }
 },
 "nbformat": 4,
 "nbformat_minor": 5
}
