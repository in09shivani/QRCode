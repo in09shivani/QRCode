{
 "cells": [
  {
   "cell_type": "code",
   "execution_count": 6,
   "id": "73907171",
   "metadata": {},
   "outputs": [],
   "source": [
    "import qrcode # !pip install qrcode\n",
    "from PIL import Image # !pip install pillow\n",
    "qr=qrcode.QRCode(version=1,error_correction=qrcode.constants.ERROR_CORRECT_H,box_size=5,border=4,)\n",
    "qr.add_data('https://github.com/in09shivani/MLProject')\n",
    "qr.make(fit=True)\n",
    "img=qr.make_image(fill_color=\"black\",back_color=\"white\")\n",
    "img.save('QRcode1.png')\n"
   ]
  },
  {
   "cell_type": "code",
   "execution_count": null,
   "id": "6c449bc5",
   "metadata": {},
   "outputs": [],
   "source": []
  }
 ],
 "metadata": {
  "kernelspec": {
   "display_name": "Python 3 (ipykernel)",
   "language": "python",
   "name": "python3"
  },
  "language_info": {
   "codemirror_mode": {
    "name": "ipython",
    "version": 3
   },
   "file_extension": ".py",
   "mimetype": "text/x-python",
   "name": "python",
   "nbconvert_exporter": "python",
   "pygments_lexer": "ipython3",
   "version": "3.9.13"
  }
 },
 "nbformat": 4,
 "nbformat_minor": 5
}
